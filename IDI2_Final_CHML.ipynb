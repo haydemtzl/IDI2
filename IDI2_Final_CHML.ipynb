{
 "cells": [
  {
   "cell_type": "markdown",
   "id": "e3722578",
   "metadata": {},
   "source": [
    "## Introducción\n",
    "\n",
    "### Datos:\n",
    "El dataset incluye 10 columnas con información sobre cada canción, incluyendo el título, el artista, el estado de ánimo de la canción, el tempo, el género, el tipo de artista, la fecha de la lista de éxitos, la duración de la canción en segundos, si llegó o no al top 1 del Billboard, y el año de nacimiento del artista.\n",
    "\n",
    "![head](head.png)\n",
    "\n",
    "### Objetivo:\n",
    "El objetivo del proyecto es utilizar un dataset de 634 canciones para desarrollar un modelo de árbol de decisiones que pueda predecir si una nueva canción llegará al top 1 del Billboard o no. Esto permitirá a los artistas y sellos discográficos tomar decisiones más informadas al lanzar nuevas canciones y mejorar sus posibilidades de éxito.\n",
    "\n",
    "\n",
    "### Alcanzables:\n",
    "#### Exploración, limpieza de los datos y selección de variables relevantes: : \n",
    "Antes de poder utilizar el dataset, se debe realizar una exploración detallada de los datos para identificar y corregir cualquier problema de calidad de los mismos. Esto incluye el manejo de datos faltantes, la eliminación de valores atípicos y la corrección de cualquier error en los datos. No todas las variables incluidas en el dataset son relevantes para la predicción de éxito en el Billboard. Se debe realizar un análisis cuidadoso de cada variable y seleccionar solo aquellas que sean relevantes para la predicción.\n",
    "\n",
    "#### Desarrollo de un modelo de árbol de decisiones: \n",
    "Utilizando el dataset limpio y las variables relevantes seleccionadas, se debe desarrollar un modelo de árbol de decisiones que pueda predecir si una canción llegará al top 1 del Billboard o no. Se debe utilizar una técnica de validación cruzada para evaluar el rendimiento del modelo.\n",
    "\n",
    "#### Ajuste y optimización del modelo: \n",
    "Una vez que se ha desarrollado un modelo inicial, se deben realizar ajustes y optimizaciones para mejorar su rendimiento. Esto incluye ajustar los parámetros del modelo, como la profundidad máxima del árbol, y la realización de pruebas adicionales con diferentes combinaciones de variables.\n",
    "\n",
    "#### Validación final del modelo: \n",
    "Una vez que se ha desarrollado un modelo final, se debe realizar una validación final utilizando datos independientes para evaluar su precisión y capacidad de generalización.\n",
    "\n",
    "#### Documentación y presentación de los resultados: \n",
    "Finalmente, se debe documentar y presentar los resultados del proyecto, incluyendo una descripción del modelo final y su precisión, así como recomendaciones para el uso del modelo en la predicción del éxito en el Billboard.\n",
    "\n"
   ]
  },
  {
   "cell_type": "markdown",
   "id": "49ac946f",
   "metadata": {},
   "source": [
    "## Marco Teórico\n",
    "\n",
    "En el ámbito de la **música**, la caracterización de canciones según su mood o estado de ánimo es un aspecto relevante para su identificación y clasificación. El mood puede ser descrito como la expresión emocional que se transmite a través de la música, y se relaciona con sentimientos como la tristeza, la alegría, la emoción, la tranquilidad, entre otros.\n",
    "\n",
    "La identificación del mood puede ser útil para diferentes propósitos, como la creación de listas de reproducción personalizadas, la selección de canciones para eventos específicos, la recomendación de nuevas canciones a un usuario, entre otros.\n",
    "\n",
    "El tempo es otro aspecto importante de la música que se relaciona con la velocidad o ritmo de una canción. Se puede describir en términos de beats por minuto (BPM) y se utiliza para clasificar canciones según su intensidad o energía. El tempo puede variar ampliamente entre diferentes géneros y estilos musicales, y se utiliza comúnmente en la creación de música electrónica y de baile.\n",
    "\n",
    "Por otro lado, el género musical se refiere a una categoría o clasificación general que se utiliza para agrupar canciones con características similares. Cada género musical se define por sus propias características distintivas, como los instrumentos utilizados, el tempo, el estilo vocal y la temática lírica. Los géneros pueden ser muy amplios, como el pop o el rock, o más específicos, como el reggaetón o el jazz.\n",
    "\n",
    "El tipo de artista también puede ser un aspecto importante a considerar al analizar una canción, ya que puede afectar el enfoque y el estilo de la música. Los artistas pueden ser clasificados por su género, edad, sexo, origen étnico, influencias musicales y otros factores.\n",
    "\n",
    "Finalmente, la duración de una canción se refiere al tiempo total que dura la pista de audio. Este aspecto puede ser relevante para la programación de radio y la creación de listas de reproducción, ya que puede afectar la duración total de un programa o evento. Además, el año de lanzamiento o la fecha de charting de una canción pueden ser aspectos relevantes para su análisis histórico y cultural.\n",
    "\n",
    "En resumen, la comprensión de estos conceptos clave puede ser útil para la identificación, clasificación y análisis de canciones en el ámbito de la música.\n",
    "\n",
    "Respecto al **algoritmo**, los árboles de decisión son una técnica de aprendizaje supervisado utilizada para la toma de decisiones en la que se construye un modelo de predicción en forma de árbol. Cada nodo interno del árbol representa una característica o atributo, y las ramas salientes de un nodo representan las posibles combinaciones de valores para esa característica. Las hojas del árbol representan las etiquetas de clase o las predicciones.\n",
    "\n",
    "Los árboles de decisión pueden ser una buena opción para el análisis de datos de música, ya que permiten la identificación de patrones y relaciones entre las diferentes características de las canciones. \n",
    "\n",
    "En particular, los árboles de decisión pueden ayudar a determinar cuáles características son más importantes para la popularidad de una canción y cuáles tienen un impacto menor.\n",
    "\n",
    "Además, los árboles de decisión son relativamente fáciles de interpretar, lo que los convierte en una herramienta valiosa para la exploración de datos. Los resultados del modelo pueden ser presentados de manera gráfica, lo que permite una fácil visualización y comprensión de los resultados.\n",
    "\n",
    "En resumen, los árboles de decisión pueden ser una buena opción para el análisis de datos de música debido a su capacidad para identificar patrones y relaciones entre las diferentes características de las canciones, su facilidad de interpretación y su presentación gráfica de los resultados.\n"
   ]
  },
  {
   "cell_type": "markdown",
   "id": "89f32c46",
   "metadata": {},
   "source": [
    "## Implementación"
   ]
  },
  {
   "cell_type": "markdown",
   "id": "b92d9428",
   "metadata": {},
   "source": [
    "### Importando librerías\n",
    "\n",
    "Importante mencionar que esta clase **\"from tree import DecisionTreeClassifier\"** que desarrollé tiene las funciones principales del algoritmo de **árbol de decisiones** y vive en la misma carpeta que este notebook."
   ]
  },
  {
   "cell_type": "code",
   "execution_count": 1,
   "id": "ac064318",
   "metadata": {},
   "outputs": [],
   "source": [
    "import pydot\n",
    "import numpy as np\n",
    "import pandas as pd\n",
    "import scipy.stats as stats\n",
    "import matplotlib.pyplot as plt\n",
    "from collections import Counter\n",
    "from tree import DecisionTreeClassifier\n",
    "from sklearn.model_selection import KFold\n",
    "from PIL import Image, ImageDraw, ImageFont\n",
    "from IPython.display import Image as PImage\n",
    "from sklearn.model_selection import cross_val_score "
   ]
  },
  {
   "cell_type": "code",
   "execution_count": null,
   "id": "1a6e1fec",
   "metadata": {},
   "outputs": [],
   "source": [
    "plt.rcParams['figure.figsize'] = (16, 9) \n",
    "plt.style.use('ggplot')"
   ]
  },
  {
   "cell_type": "markdown",
   "id": "765a9a40",
   "metadata": {},
   "source": [
    "### Exploración, limpieza de datos y selección de variables relevantes:"
   ]
  },
  {
   "cell_type": "code",
   "execution_count": 2,
   "id": "1f0b4beb",
   "metadata": {},
   "outputs": [
    {
     "data": {
      "text/html": [
       "<div>\n",
       "<style scoped>\n",
       "    .dataframe tbody tr th:only-of-type {\n",
       "        vertical-align: middle;\n",
       "    }\n",
       "\n",
       "    .dataframe tbody tr th {\n",
       "        vertical-align: top;\n",
       "    }\n",
       "\n",
       "    .dataframe thead th {\n",
       "        text-align: right;\n",
       "    }\n",
       "</style>\n",
       "<table border=\"1\" class=\"dataframe\">\n",
       "  <thead>\n",
       "    <tr style=\"text-align: right;\">\n",
       "      <th></th>\n",
       "      <th>id</th>\n",
       "      <th>title</th>\n",
       "      <th>artist</th>\n",
       "      <th>mood</th>\n",
       "      <th>tempo</th>\n",
       "      <th>genre</th>\n",
       "      <th>artist_type</th>\n",
       "      <th>chart_date</th>\n",
       "      <th>durationSeg</th>\n",
       "      <th>top</th>\n",
       "      <th>anioNacimiento</th>\n",
       "    </tr>\n",
       "  </thead>\n",
       "  <tbody>\n",
       "    <tr>\n",
       "      <th>0</th>\n",
       "      <td>0</td>\n",
       "      <td>Small Town Throwdown</td>\n",
       "      <td>BRANTLEY GILBERT featuring JUSTIN MOORE &amp; THOM...</td>\n",
       "      <td>Brooding</td>\n",
       "      <td>Medium Tempo</td>\n",
       "      <td>Traditional</td>\n",
       "      <td>Male</td>\n",
       "      <td>20140628</td>\n",
       "      <td>191.0</td>\n",
       "      <td>0</td>\n",
       "      <td>1975.0</td>\n",
       "    </tr>\n",
       "    <tr>\n",
       "      <th>1</th>\n",
       "      <td>1</td>\n",
       "      <td>Bang Bang</td>\n",
       "      <td>JESSIE J, ARIANA GRANDE &amp; NICKI MINAJ</td>\n",
       "      <td>Energizing</td>\n",
       "      <td>Medium Tempo</td>\n",
       "      <td>Pop</td>\n",
       "      <td>Female</td>\n",
       "      <td>20140816</td>\n",
       "      <td>368.0</td>\n",
       "      <td>0</td>\n",
       "      <td>1989.0</td>\n",
       "    </tr>\n",
       "    <tr>\n",
       "      <th>2</th>\n",
       "      <td>2</td>\n",
       "      <td>Timber</td>\n",
       "      <td>PITBULL featuring KE$HA</td>\n",
       "      <td>Excited</td>\n",
       "      <td>Medium Tempo</td>\n",
       "      <td>Urban</td>\n",
       "      <td>Mixed</td>\n",
       "      <td>20140118</td>\n",
       "      <td>223.0</td>\n",
       "      <td>1</td>\n",
       "      <td>1993.0</td>\n",
       "    </tr>\n",
       "    <tr>\n",
       "      <th>3</th>\n",
       "      <td>3</td>\n",
       "      <td>Sweater Weather</td>\n",
       "      <td>THE NEIGHBOURHOOD</td>\n",
       "      <td>Brooding</td>\n",
       "      <td>Medium Tempo</td>\n",
       "      <td>Alternative &amp; Punk</td>\n",
       "      <td>Male</td>\n",
       "      <td>20140104</td>\n",
       "      <td>206.0</td>\n",
       "      <td>0</td>\n",
       "      <td>1989.0</td>\n",
       "    </tr>\n",
       "    <tr>\n",
       "      <th>4</th>\n",
       "      <td>4</td>\n",
       "      <td>Automatic</td>\n",
       "      <td>MIRANDA LAMBERT</td>\n",
       "      <td>Yearning</td>\n",
       "      <td>Medium Tempo</td>\n",
       "      <td>Traditional</td>\n",
       "      <td>Female</td>\n",
       "      <td>20140301</td>\n",
       "      <td>232.0</td>\n",
       "      <td>0</td>\n",
       "      <td>0.0</td>\n",
       "    </tr>\n",
       "  </tbody>\n",
       "</table>\n",
       "</div>"
      ],
      "text/plain": [
       "   id                 title  \\\n",
       "0   0  Small Town Throwdown   \n",
       "1   1             Bang Bang   \n",
       "2   2                Timber   \n",
       "3   3       Sweater Weather   \n",
       "4   4             Automatic   \n",
       "\n",
       "                                              artist        mood  \\\n",
       "0  BRANTLEY GILBERT featuring JUSTIN MOORE & THOM...    Brooding   \n",
       "1              JESSIE J, ARIANA GRANDE & NICKI MINAJ  Energizing   \n",
       "2                            PITBULL featuring KE$HA     Excited   \n",
       "3                                  THE NEIGHBOURHOOD    Brooding   \n",
       "4                                    MIRANDA LAMBERT    Yearning   \n",
       "\n",
       "          tempo               genre artist_type  chart_date  durationSeg  top  \\\n",
       "0  Medium Tempo         Traditional        Male    20140628        191.0    0   \n",
       "1  Medium Tempo                 Pop      Female    20140816        368.0    0   \n",
       "2  Medium Tempo               Urban       Mixed    20140118        223.0    1   \n",
       "3  Medium Tempo  Alternative & Punk        Male    20140104        206.0    0   \n",
       "4  Medium Tempo         Traditional      Female    20140301        232.0    0   \n",
       "\n",
       "   anioNacimiento  \n",
       "0          1975.0  \n",
       "1          1989.0  \n",
       "2          1993.0  \n",
       "3          1989.0  \n",
       "4             0.0  "
      ]
     },
     "execution_count": 2,
     "metadata": {},
     "output_type": "execute_result"
    }
   ],
   "source": [
    "artists_billboard = pd.read_csv(\"artists_billboard_fix3.csv\")\n",
    "artists_billboard.head()"
   ]
  },
  {
   "cell_type": "markdown",
   "id": "abda3876",
   "metadata": {},
   "source": [
    "¿Cuántos **renglones** tengo por cada clase?"
   ]
  },
  {
   "cell_type": "code",
   "execution_count": 3,
   "id": "193f36a0",
   "metadata": {},
   "outputs": [
    {
     "data": {
      "text/plain": [
       "top\n",
       "0    494\n",
       "1    141\n",
       "dtype: int64"
      ]
     },
     "execution_count": 3,
     "metadata": {},
     "output_type": "execute_result"
    }
   ],
   "source": [
    "artists_billboard.groupby('top').size()"
   ]
  },
  {
   "cell_type": "markdown",
   "id": "754d00aa",
   "metadata": {},
   "source": [
    "Estadística descriptiva de las **columnas númericas**"
   ]
  },
  {
   "cell_type": "code",
   "execution_count": 4,
   "id": "42aa4eba",
   "metadata": {},
   "outputs": [
    {
     "data": {
      "text/html": [
       "<div>\n",
       "<style scoped>\n",
       "    .dataframe tbody tr th:only-of-type {\n",
       "        vertical-align: middle;\n",
       "    }\n",
       "\n",
       "    .dataframe tbody tr th {\n",
       "        vertical-align: top;\n",
       "    }\n",
       "\n",
       "    .dataframe thead th {\n",
       "        text-align: right;\n",
       "    }\n",
       "</style>\n",
       "<table border=\"1\" class=\"dataframe\">\n",
       "  <thead>\n",
       "    <tr style=\"text-align: right;\">\n",
       "      <th></th>\n",
       "      <th>id</th>\n",
       "      <th>chart_date</th>\n",
       "      <th>durationSeg</th>\n",
       "      <th>top</th>\n",
       "      <th>anioNacimiento</th>\n",
       "    </tr>\n",
       "  </thead>\n",
       "  <tbody>\n",
       "    <tr>\n",
       "      <th>count</th>\n",
       "      <td>635.000000</td>\n",
       "      <td>6.350000e+02</td>\n",
       "      <td>635.000000</td>\n",
       "      <td>635.000000</td>\n",
       "      <td>635.000000</td>\n",
       "    </tr>\n",
       "    <tr>\n",
       "      <th>mean</th>\n",
       "      <td>317.000000</td>\n",
       "      <td>2.013036e+07</td>\n",
       "      <td>321.768504</td>\n",
       "      <td>0.222047</td>\n",
       "      <td>1548.590551</td>\n",
       "    </tr>\n",
       "    <tr>\n",
       "      <th>std</th>\n",
       "      <td>183.452991</td>\n",
       "      <td>2.617996e+04</td>\n",
       "      <td>633.753787</td>\n",
       "      <td>0.415950</td>\n",
       "      <td>820.470454</td>\n",
       "    </tr>\n",
       "    <tr>\n",
       "      <th>min</th>\n",
       "      <td>0.000000</td>\n",
       "      <td>2.004021e+07</td>\n",
       "      <td>0.000000</td>\n",
       "      <td>0.000000</td>\n",
       "      <td>0.000000</td>\n",
       "    </tr>\n",
       "    <tr>\n",
       "      <th>25%</th>\n",
       "      <td>158.500000</td>\n",
       "      <td>2.014010e+07</td>\n",
       "      <td>200.000000</td>\n",
       "      <td>0.000000</td>\n",
       "      <td>1969.000000</td>\n",
       "    </tr>\n",
       "    <tr>\n",
       "      <th>50%</th>\n",
       "      <td>317.000000</td>\n",
       "      <td>2.014051e+07</td>\n",
       "      <td>232.000000</td>\n",
       "      <td>0.000000</td>\n",
       "      <td>1981.000000</td>\n",
       "    </tr>\n",
       "    <tr>\n",
       "      <th>75%</th>\n",
       "      <td>475.500000</td>\n",
       "      <td>2.014101e+07</td>\n",
       "      <td>266.500000</td>\n",
       "      <td>0.000000</td>\n",
       "      <td>1986.000000</td>\n",
       "    </tr>\n",
       "    <tr>\n",
       "      <th>max</th>\n",
       "      <td>634.000000</td>\n",
       "      <td>2.015031e+07</td>\n",
       "      <td>6840.000000</td>\n",
       "      <td>1.000000</td>\n",
       "      <td>1999.000000</td>\n",
       "    </tr>\n",
       "  </tbody>\n",
       "</table>\n",
       "</div>"
      ],
      "text/plain": [
       "               id    chart_date  durationSeg         top  anioNacimiento\n",
       "count  635.000000  6.350000e+02   635.000000  635.000000      635.000000\n",
       "mean   317.000000  2.013036e+07   321.768504    0.222047     1548.590551\n",
       "std    183.452991  2.617996e+04   633.753787    0.415950      820.470454\n",
       "min      0.000000  2.004021e+07     0.000000    0.000000        0.000000\n",
       "25%    158.500000  2.014010e+07   200.000000    0.000000     1969.000000\n",
       "50%    317.000000  2.014051e+07   232.000000    0.000000     1981.000000\n",
       "75%    475.500000  2.014101e+07   266.500000    0.000000     1986.000000\n",
       "max    634.000000  2.015031e+07  6840.000000    1.000000     1999.000000"
      ]
     },
     "execution_count": 4,
     "metadata": {},
     "output_type": "execute_result"
    }
   ],
   "source": [
    "artists_billboard.describe()"
   ]
  },
  {
   "cell_type": "markdown",
   "id": "2d14fc0e",
   "metadata": {},
   "source": [
    "### Limpieza de datos"
   ]
  },
  {
   "cell_type": "markdown",
   "id": "1246f1de",
   "metadata": {},
   "source": [
    "Voy a cambiar los valores de la columna **\"anioNacimiento\"** de 0 a valores nulos para poder imputar, pero antes de imputar, voy a calcular la edad que tenían al llegar al bilboard restando de los primeros 4 valores de la columna chart_date la columna de **\"anioNacimiento\"** y los guardaré en una nueva columna **\"edad_en_billboard\"** y ahora si imputaré, lo haré calculando la media y la desviación estándar, después asignaré números al azar en el rango de **media - desviación estandar a media + desviación estandar.**"
   ]
  },
  {
   "cell_type": "code",
   "execution_count": 6,
   "id": "270327c4",
   "metadata": {},
   "outputs": [],
   "source": [
    "def edad_fix(anio): \n",
    "    if anio==0:\n",
    "        return None \n",
    "    return anio"
   ]
  },
  {
   "cell_type": "code",
   "execution_count": 7,
   "id": "5c948758",
   "metadata": {},
   "outputs": [],
   "source": [
    "artists_billboard['anioNacimiento']=artists_billboard.apply(lambda x: edad_fix(x['anioNacimiento']), axis=1)"
   ]
  },
  {
   "cell_type": "markdown",
   "id": "b1d663a8",
   "metadata": {},
   "source": [
    "Visualizando el **dataset** modificado"
   ]
  },
  {
   "cell_type": "code",
   "execution_count": 8,
   "id": "d531aeeb",
   "metadata": {},
   "outputs": [
    {
     "data": {
      "text/html": [
       "<div>\n",
       "<style scoped>\n",
       "    .dataframe tbody tr th:only-of-type {\n",
       "        vertical-align: middle;\n",
       "    }\n",
       "\n",
       "    .dataframe tbody tr th {\n",
       "        vertical-align: top;\n",
       "    }\n",
       "\n",
       "    .dataframe thead th {\n",
       "        text-align: right;\n",
       "    }\n",
       "</style>\n",
       "<table border=\"1\" class=\"dataframe\">\n",
       "  <thead>\n",
       "    <tr style=\"text-align: right;\">\n",
       "      <th></th>\n",
       "      <th>id</th>\n",
       "      <th>title</th>\n",
       "      <th>artist</th>\n",
       "      <th>mood</th>\n",
       "      <th>tempo</th>\n",
       "      <th>genre</th>\n",
       "      <th>artist_type</th>\n",
       "      <th>chart_date</th>\n",
       "      <th>durationSeg</th>\n",
       "      <th>top</th>\n",
       "      <th>anioNacimiento</th>\n",
       "    </tr>\n",
       "  </thead>\n",
       "  <tbody>\n",
       "    <tr>\n",
       "      <th>0</th>\n",
       "      <td>0</td>\n",
       "      <td>Small Town Throwdown</td>\n",
       "      <td>BRANTLEY GILBERT featuring JUSTIN MOORE &amp; THOM...</td>\n",
       "      <td>Brooding</td>\n",
       "      <td>Medium Tempo</td>\n",
       "      <td>Traditional</td>\n",
       "      <td>Male</td>\n",
       "      <td>20140628</td>\n",
       "      <td>191.0</td>\n",
       "      <td>0</td>\n",
       "      <td>1975.0</td>\n",
       "    </tr>\n",
       "    <tr>\n",
       "      <th>1</th>\n",
       "      <td>1</td>\n",
       "      <td>Bang Bang</td>\n",
       "      <td>JESSIE J, ARIANA GRANDE &amp; NICKI MINAJ</td>\n",
       "      <td>Energizing</td>\n",
       "      <td>Medium Tempo</td>\n",
       "      <td>Pop</td>\n",
       "      <td>Female</td>\n",
       "      <td>20140816</td>\n",
       "      <td>368.0</td>\n",
       "      <td>0</td>\n",
       "      <td>1989.0</td>\n",
       "    </tr>\n",
       "    <tr>\n",
       "      <th>2</th>\n",
       "      <td>2</td>\n",
       "      <td>Timber</td>\n",
       "      <td>PITBULL featuring KE$HA</td>\n",
       "      <td>Excited</td>\n",
       "      <td>Medium Tempo</td>\n",
       "      <td>Urban</td>\n",
       "      <td>Mixed</td>\n",
       "      <td>20140118</td>\n",
       "      <td>223.0</td>\n",
       "      <td>1</td>\n",
       "      <td>1993.0</td>\n",
       "    </tr>\n",
       "    <tr>\n",
       "      <th>3</th>\n",
       "      <td>3</td>\n",
       "      <td>Sweater Weather</td>\n",
       "      <td>THE NEIGHBOURHOOD</td>\n",
       "      <td>Brooding</td>\n",
       "      <td>Medium Tempo</td>\n",
       "      <td>Alternative &amp; Punk</td>\n",
       "      <td>Male</td>\n",
       "      <td>20140104</td>\n",
       "      <td>206.0</td>\n",
       "      <td>0</td>\n",
       "      <td>1989.0</td>\n",
       "    </tr>\n",
       "    <tr>\n",
       "      <th>4</th>\n",
       "      <td>4</td>\n",
       "      <td>Automatic</td>\n",
       "      <td>MIRANDA LAMBERT</td>\n",
       "      <td>Yearning</td>\n",
       "      <td>Medium Tempo</td>\n",
       "      <td>Traditional</td>\n",
       "      <td>Female</td>\n",
       "      <td>20140301</td>\n",
       "      <td>232.0</td>\n",
       "      <td>0</td>\n",
       "      <td>NaN</td>\n",
       "    </tr>\n",
       "  </tbody>\n",
       "</table>\n",
       "</div>"
      ],
      "text/plain": [
       "   id                 title  \\\n",
       "0   0  Small Town Throwdown   \n",
       "1   1             Bang Bang   \n",
       "2   2                Timber   \n",
       "3   3       Sweater Weather   \n",
       "4   4             Automatic   \n",
       "\n",
       "                                              artist        mood  \\\n",
       "0  BRANTLEY GILBERT featuring JUSTIN MOORE & THOM...    Brooding   \n",
       "1              JESSIE J, ARIANA GRANDE & NICKI MINAJ  Energizing   \n",
       "2                            PITBULL featuring KE$HA     Excited   \n",
       "3                                  THE NEIGHBOURHOOD    Brooding   \n",
       "4                                    MIRANDA LAMBERT    Yearning   \n",
       "\n",
       "          tempo               genre artist_type  chart_date  durationSeg  top  \\\n",
       "0  Medium Tempo         Traditional        Male    20140628        191.0    0   \n",
       "1  Medium Tempo                 Pop      Female    20140816        368.0    0   \n",
       "2  Medium Tempo               Urban       Mixed    20140118        223.0    1   \n",
       "3  Medium Tempo  Alternative & Punk        Male    20140104        206.0    0   \n",
       "4  Medium Tempo         Traditional      Female    20140301        232.0    0   \n",
       "\n",
       "   anioNacimiento  \n",
       "0          1975.0  \n",
       "1          1989.0  \n",
       "2          1993.0  \n",
       "3          1989.0  \n",
       "4             NaN  "
      ]
     },
     "execution_count": 8,
     "metadata": {},
     "output_type": "execute_result"
    }
   ],
   "source": [
    "artists_billboard.head()"
   ]
  },
  {
   "cell_type": "markdown",
   "id": "aa33842e",
   "metadata": {},
   "source": [
    "¿Cuántos valores nulos tengo en la columna **anioNacimiento**?"
   ]
  },
  {
   "cell_type": "code",
   "execution_count": 9,
   "id": "15e8f951",
   "metadata": {},
   "outputs": [
    {
     "data": {
      "text/plain": [
       "496"
      ]
     },
     "execution_count": 9,
     "metadata": {},
     "output_type": "execute_result"
    }
   ],
   "source": [
    "artists_billboard[\"anioNacimiento\"].count()"
   ]
  },
  {
   "cell_type": "markdown",
   "id": "83f94c95",
   "metadata": {},
   "source": [
    "Calculando la edad que tenían los artistas **al llegar al billboard.**"
   ]
  },
  {
   "cell_type": "code",
   "execution_count": 10,
   "id": "998cc2d4",
   "metadata": {},
   "outputs": [],
   "source": [
    "#Función para calcular las edades en las que estuvieron en el billboard\n",
    "def calcula_edad(anio,cuando): \n",
    "    cad = str(cuando)\n",
    "    momento = cad[:4]\n",
    "    if anio==0.0:\n",
    "        return None\n",
    "    return int(momento) - anio"
   ]
  },
  {
   "cell_type": "code",
   "execution_count": 11,
   "id": "1167e117",
   "metadata": {},
   "outputs": [],
   "source": [
    "artists_billboard['edad_en_billboard']=artists_billboard.apply(lambda x: calcula_edad(x['anioNacimiento'],x['chart_date']), axis=1)"
   ]
  },
  {
   "cell_type": "code",
   "execution_count": 12,
   "id": "8d9e6799",
   "metadata": {},
   "outputs": [
    {
     "data": {
      "text/html": [
       "<div>\n",
       "<style scoped>\n",
       "    .dataframe tbody tr th:only-of-type {\n",
       "        vertical-align: middle;\n",
       "    }\n",
       "\n",
       "    .dataframe tbody tr th {\n",
       "        vertical-align: top;\n",
       "    }\n",
       "\n",
       "    .dataframe thead th {\n",
       "        text-align: right;\n",
       "    }\n",
       "</style>\n",
       "<table border=\"1\" class=\"dataframe\">\n",
       "  <thead>\n",
       "    <tr style=\"text-align: right;\">\n",
       "      <th></th>\n",
       "      <th>id</th>\n",
       "      <th>title</th>\n",
       "      <th>artist</th>\n",
       "      <th>mood</th>\n",
       "      <th>tempo</th>\n",
       "      <th>genre</th>\n",
       "      <th>artist_type</th>\n",
       "      <th>chart_date</th>\n",
       "      <th>durationSeg</th>\n",
       "      <th>top</th>\n",
       "      <th>anioNacimiento</th>\n",
       "      <th>edad_en_billboard</th>\n",
       "    </tr>\n",
       "  </thead>\n",
       "  <tbody>\n",
       "    <tr>\n",
       "      <th>0</th>\n",
       "      <td>0</td>\n",
       "      <td>Small Town Throwdown</td>\n",
       "      <td>BRANTLEY GILBERT featuring JUSTIN MOORE &amp; THOM...</td>\n",
       "      <td>Brooding</td>\n",
       "      <td>Medium Tempo</td>\n",
       "      <td>Traditional</td>\n",
       "      <td>Male</td>\n",
       "      <td>20140628</td>\n",
       "      <td>191.0</td>\n",
       "      <td>0</td>\n",
       "      <td>1975.0</td>\n",
       "      <td>39.0</td>\n",
       "    </tr>\n",
       "    <tr>\n",
       "      <th>1</th>\n",
       "      <td>1</td>\n",
       "      <td>Bang Bang</td>\n",
       "      <td>JESSIE J, ARIANA GRANDE &amp; NICKI MINAJ</td>\n",
       "      <td>Energizing</td>\n",
       "      <td>Medium Tempo</td>\n",
       "      <td>Pop</td>\n",
       "      <td>Female</td>\n",
       "      <td>20140816</td>\n",
       "      <td>368.0</td>\n",
       "      <td>0</td>\n",
       "      <td>1989.0</td>\n",
       "      <td>25.0</td>\n",
       "    </tr>\n",
       "    <tr>\n",
       "      <th>2</th>\n",
       "      <td>2</td>\n",
       "      <td>Timber</td>\n",
       "      <td>PITBULL featuring KE$HA</td>\n",
       "      <td>Excited</td>\n",
       "      <td>Medium Tempo</td>\n",
       "      <td>Urban</td>\n",
       "      <td>Mixed</td>\n",
       "      <td>20140118</td>\n",
       "      <td>223.0</td>\n",
       "      <td>1</td>\n",
       "      <td>1993.0</td>\n",
       "      <td>21.0</td>\n",
       "    </tr>\n",
       "    <tr>\n",
       "      <th>3</th>\n",
       "      <td>3</td>\n",
       "      <td>Sweater Weather</td>\n",
       "      <td>THE NEIGHBOURHOOD</td>\n",
       "      <td>Brooding</td>\n",
       "      <td>Medium Tempo</td>\n",
       "      <td>Alternative &amp; Punk</td>\n",
       "      <td>Male</td>\n",
       "      <td>20140104</td>\n",
       "      <td>206.0</td>\n",
       "      <td>0</td>\n",
       "      <td>1989.0</td>\n",
       "      <td>25.0</td>\n",
       "    </tr>\n",
       "    <tr>\n",
       "      <th>4</th>\n",
       "      <td>4</td>\n",
       "      <td>Automatic</td>\n",
       "      <td>MIRANDA LAMBERT</td>\n",
       "      <td>Yearning</td>\n",
       "      <td>Medium Tempo</td>\n",
       "      <td>Traditional</td>\n",
       "      <td>Female</td>\n",
       "      <td>20140301</td>\n",
       "      <td>232.0</td>\n",
       "      <td>0</td>\n",
       "      <td>NaN</td>\n",
       "      <td>NaN</td>\n",
       "    </tr>\n",
       "  </tbody>\n",
       "</table>\n",
       "</div>"
      ],
      "text/plain": [
       "   id                 title  \\\n",
       "0   0  Small Town Throwdown   \n",
       "1   1             Bang Bang   \n",
       "2   2                Timber   \n",
       "3   3       Sweater Weather   \n",
       "4   4             Automatic   \n",
       "\n",
       "                                              artist        mood  \\\n",
       "0  BRANTLEY GILBERT featuring JUSTIN MOORE & THOM...    Brooding   \n",
       "1              JESSIE J, ARIANA GRANDE & NICKI MINAJ  Energizing   \n",
       "2                            PITBULL featuring KE$HA     Excited   \n",
       "3                                  THE NEIGHBOURHOOD    Brooding   \n",
       "4                                    MIRANDA LAMBERT    Yearning   \n",
       "\n",
       "          tempo               genre artist_type  chart_date  durationSeg  top  \\\n",
       "0  Medium Tempo         Traditional        Male    20140628        191.0    0   \n",
       "1  Medium Tempo                 Pop      Female    20140816        368.0    0   \n",
       "2  Medium Tempo               Urban       Mixed    20140118        223.0    1   \n",
       "3  Medium Tempo  Alternative & Punk        Male    20140104        206.0    0   \n",
       "4  Medium Tempo         Traditional      Female    20140301        232.0    0   \n",
       "\n",
       "   anioNacimiento  edad_en_billboard  \n",
       "0          1975.0               39.0  \n",
       "1          1989.0               25.0  \n",
       "2          1993.0               21.0  \n",
       "3          1989.0               25.0  \n",
       "4             NaN                NaN  "
      ]
     },
     "execution_count": 12,
     "metadata": {},
     "output_type": "execute_result"
    }
   ],
   "source": [
    "artists_billboard.head()"
   ]
  },
  {
   "cell_type": "markdown",
   "id": "4a3f1cf4",
   "metadata": {},
   "source": [
    "### Inicia imputación  \n",
    "Calculos de media y desviación estándar para definir rango"
   ]
  },
  {
   "cell_type": "code",
   "execution_count": 13,
   "id": "32348ee3",
   "metadata": {},
   "outputs": [
    {
     "data": {
      "text/plain": [
       "21.702034252030032"
      ]
     },
     "execution_count": 13,
     "metadata": {},
     "output_type": "execute_result"
    }
   ],
   "source": [
    "age_avg = artists_billboard['edad_en_billboard'].mean() \n",
    "age_std = artists_billboard['edad_en_billboard'].std() \n",
    "age_avg - age_std"
   ]
  },
  {
   "cell_type": "markdown",
   "id": "664926db",
   "metadata": {},
   "source": [
    "**Prueba de normalidad** a mi nueva columna para saber si me conviene usar el rango media-std a media+std"
   ]
  },
  {
   "cell_type": "code",
   "execution_count": 14,
   "id": "ae6c3f9c",
   "metadata": {},
   "outputs": [
    {
     "name": "stdout",
     "output_type": "stream",
     "text": [
      "NormaltestResult(statistic=210.70332240090096, pvalue=1.7634164236872383e-46)\n"
     ]
    }
   ],
   "source": [
    "normal_test = stats.normaltest(artists_billboard['edad_en_billboard'].dropna())\n",
    "print(normal_test)"
   ]
  },
  {
   "cell_type": "markdown",
   "id": "82a34292",
   "metadata": {},
   "source": [
    "Todo indica que si siguen una distribución normal."
   ]
  },
  {
   "cell_type": "code",
   "execution_count": 15,
   "id": "15ba8879",
   "metadata": {},
   "outputs": [
    {
     "data": {
      "text/plain": [
       "21.702034252030032"
      ]
     },
     "execution_count": 15,
     "metadata": {},
     "output_type": "execute_result"
    }
   ],
   "source": [
    "age_avg - age_std"
   ]
  },
  {
   "cell_type": "code",
   "execution_count": 16,
   "id": "b6bc3352",
   "metadata": {},
   "outputs": [
    {
     "data": {
      "text/plain": [
       "38.50361090926029"
      ]
     },
     "execution_count": 16,
     "metadata": {},
     "output_type": "execute_result"
    }
   ],
   "source": [
    "age_avg + age_std"
   ]
  },
  {
   "cell_type": "markdown",
   "id": "b4fb8566",
   "metadata": {},
   "source": [
    "Asignar valores al azar en el rango de **media-std a media+std** que es de **21 a 38**"
   ]
  },
  {
   "cell_type": "code",
   "execution_count": 17,
   "id": "07af8f39",
   "metadata": {},
   "outputs": [],
   "source": [
    "age_null_count = artists_billboard['edad_en_billboard'].isnull().sum() \n",
    "age_null_random_list = np.random.randint(age_avg - age_std, age_avg + age_std, size=age_null_count)"
   ]
  },
  {
   "cell_type": "code",
   "execution_count": 18,
   "id": "d74187d5",
   "metadata": {},
   "outputs": [
    {
     "data": {
      "text/plain": [
       "array([26, 37, 22, 36, 31, 21, 31, 35, 29, 29])"
      ]
     },
     "execution_count": 18,
     "metadata": {},
     "output_type": "execute_result"
    }
   ],
   "source": [
    "age_null_random_list[:10]"
   ]
  },
  {
   "cell_type": "markdown",
   "id": "6acd4f61",
   "metadata": {},
   "source": [
    "**Imputando**"
   ]
  },
  {
   "cell_type": "code",
   "execution_count": 19,
   "id": "4b4e43aa",
   "metadata": {},
   "outputs": [
    {
     "name": "stdout",
     "output_type": "stream",
     "text": [
      "Edad Promedio: 30.10282258064516\n",
      "Desvió Std Edad: 8.40078832861513\n",
      "Intervalo para asignar edad aleatoria: 21 a 38\n"
     ]
    }
   ],
   "source": [
    "conValoresNulos = np.isnan(artists_billboard['edad_en_billboard'])\n",
    "artists_billboard.loc[np.isnan(artists_billboard['edad_en_billboard']), 'edad_en_billboard'] = age_null_random_list \n",
    "artists_billboard['edad_en_billboard'] = artists_billboard['edad_en_billboard'].astype(int)\n",
    "print(\"Edad Promedio: \" + str(age_avg))\n",
    "print(\"Desvió Std Edad: \" + str(age_std))\n",
    "print(\"Intervalo para asignar edad aleatoria: \" + str(int(age_avg - age_std)) + \" a \" + str(int(age_avg + age_std)))"
   ]
  },
  {
   "cell_type": "code",
   "execution_count": 20,
   "id": "a733acab",
   "metadata": {},
   "outputs": [
    {
     "data": {
      "text/html": [
       "<div>\n",
       "<style scoped>\n",
       "    .dataframe tbody tr th:only-of-type {\n",
       "        vertical-align: middle;\n",
       "    }\n",
       "\n",
       "    .dataframe tbody tr th {\n",
       "        vertical-align: top;\n",
       "    }\n",
       "\n",
       "    .dataframe thead th {\n",
       "        text-align: right;\n",
       "    }\n",
       "</style>\n",
       "<table border=\"1\" class=\"dataframe\">\n",
       "  <thead>\n",
       "    <tr style=\"text-align: right;\">\n",
       "      <th></th>\n",
       "      <th>id</th>\n",
       "      <th>title</th>\n",
       "      <th>artist</th>\n",
       "      <th>mood</th>\n",
       "      <th>tempo</th>\n",
       "      <th>genre</th>\n",
       "      <th>artist_type</th>\n",
       "      <th>chart_date</th>\n",
       "      <th>durationSeg</th>\n",
       "      <th>top</th>\n",
       "      <th>anioNacimiento</th>\n",
       "      <th>edad_en_billboard</th>\n",
       "    </tr>\n",
       "  </thead>\n",
       "  <tbody>\n",
       "    <tr>\n",
       "      <th>0</th>\n",
       "      <td>0</td>\n",
       "      <td>Small Town Throwdown</td>\n",
       "      <td>BRANTLEY GILBERT featuring JUSTIN MOORE &amp; THOM...</td>\n",
       "      <td>Brooding</td>\n",
       "      <td>Medium Tempo</td>\n",
       "      <td>Traditional</td>\n",
       "      <td>Male</td>\n",
       "      <td>20140628</td>\n",
       "      <td>191.0</td>\n",
       "      <td>0</td>\n",
       "      <td>1975.0</td>\n",
       "      <td>39</td>\n",
       "    </tr>\n",
       "    <tr>\n",
       "      <th>1</th>\n",
       "      <td>1</td>\n",
       "      <td>Bang Bang</td>\n",
       "      <td>JESSIE J, ARIANA GRANDE &amp; NICKI MINAJ</td>\n",
       "      <td>Energizing</td>\n",
       "      <td>Medium Tempo</td>\n",
       "      <td>Pop</td>\n",
       "      <td>Female</td>\n",
       "      <td>20140816</td>\n",
       "      <td>368.0</td>\n",
       "      <td>0</td>\n",
       "      <td>1989.0</td>\n",
       "      <td>25</td>\n",
       "    </tr>\n",
       "    <tr>\n",
       "      <th>2</th>\n",
       "      <td>2</td>\n",
       "      <td>Timber</td>\n",
       "      <td>PITBULL featuring KE$HA</td>\n",
       "      <td>Excited</td>\n",
       "      <td>Medium Tempo</td>\n",
       "      <td>Urban</td>\n",
       "      <td>Mixed</td>\n",
       "      <td>20140118</td>\n",
       "      <td>223.0</td>\n",
       "      <td>1</td>\n",
       "      <td>1993.0</td>\n",
       "      <td>21</td>\n",
       "    </tr>\n",
       "    <tr>\n",
       "      <th>3</th>\n",
       "      <td>3</td>\n",
       "      <td>Sweater Weather</td>\n",
       "      <td>THE NEIGHBOURHOOD</td>\n",
       "      <td>Brooding</td>\n",
       "      <td>Medium Tempo</td>\n",
       "      <td>Alternative &amp; Punk</td>\n",
       "      <td>Male</td>\n",
       "      <td>20140104</td>\n",
       "      <td>206.0</td>\n",
       "      <td>0</td>\n",
       "      <td>1989.0</td>\n",
       "      <td>25</td>\n",
       "    </tr>\n",
       "    <tr>\n",
       "      <th>4</th>\n",
       "      <td>4</td>\n",
       "      <td>Automatic</td>\n",
       "      <td>MIRANDA LAMBERT</td>\n",
       "      <td>Yearning</td>\n",
       "      <td>Medium Tempo</td>\n",
       "      <td>Traditional</td>\n",
       "      <td>Female</td>\n",
       "      <td>20140301</td>\n",
       "      <td>232.0</td>\n",
       "      <td>0</td>\n",
       "      <td>NaN</td>\n",
       "      <td>26</td>\n",
       "    </tr>\n",
       "  </tbody>\n",
       "</table>\n",
       "</div>"
      ],
      "text/plain": [
       "   id                 title  \\\n",
       "0   0  Small Town Throwdown   \n",
       "1   1             Bang Bang   \n",
       "2   2                Timber   \n",
       "3   3       Sweater Weather   \n",
       "4   4             Automatic   \n",
       "\n",
       "                                              artist        mood  \\\n",
       "0  BRANTLEY GILBERT featuring JUSTIN MOORE & THOM...    Brooding   \n",
       "1              JESSIE J, ARIANA GRANDE & NICKI MINAJ  Energizing   \n",
       "2                            PITBULL featuring KE$HA     Excited   \n",
       "3                                  THE NEIGHBOURHOOD    Brooding   \n",
       "4                                    MIRANDA LAMBERT    Yearning   \n",
       "\n",
       "          tempo               genre artist_type  chart_date  durationSeg  top  \\\n",
       "0  Medium Tempo         Traditional        Male    20140628        191.0    0   \n",
       "1  Medium Tempo                 Pop      Female    20140816        368.0    0   \n",
       "2  Medium Tempo               Urban       Mixed    20140118        223.0    1   \n",
       "3  Medium Tempo  Alternative & Punk        Male    20140104        206.0    0   \n",
       "4  Medium Tempo         Traditional      Female    20140301        232.0    0   \n",
       "\n",
       "   anioNacimiento  edad_en_billboard  \n",
       "0          1975.0                 39  \n",
       "1          1989.0                 25  \n",
       "2          1993.0                 21  \n",
       "3          1989.0                 25  \n",
       "4             NaN                 26  "
      ]
     },
     "execution_count": 20,
     "metadata": {},
     "output_type": "execute_result"
    }
   ],
   "source": [
    "artists_billboard.head()"
   ]
  },
  {
   "cell_type": "markdown",
   "id": "64db1da0",
   "metadata": {},
   "source": [
    "### Creación y selección de variables relevantes"
   ]
  },
  {
   "cell_type": "markdown",
   "id": "0d618ba4",
   "metadata": {},
   "source": [
    "Voy a crear nuevas columnas categóricas donde asignaré un valor numérico a cada categoría en base a la cantidad de apariciones en la columna original. Es decir, a la categoría que aparece menos veces le asignaré el valor numérico más bajo y así sucesivamente.\n",
    "\n",
    "Por ejemplo, si la categoría \"Brooding\" aparece en la columna \"mood\" un total de 10 veces, entonces a esa categoría le asignaste el valor numérico 1 en la nueva columna \"moodEncoded\". Luego, si la categoría \"Energizing\" aparece 20 veces, le asignaste el valor numérico 2 en la misma columna \"moodEncoded\". Y así sucesivamente para el resto de las categorías.\n",
    "\n",
    "Esta técnica se conoce como **\"label encoding\"** o **\"codificación de etiquetas\"** y puede ser útil para algunas técnicas de modelado. \n",
    "\n",
    "Agrupar los moods en categorías similares según las características musicales tiene sentido porque es una forma de reducir la complejidad del análisis. Si los moods se agrupan según su aparición en el dataset, podrían haber algunas categorías que tengan muy pocos ejemplos, lo que dificultaría la interpretación de los resultados.\n",
    "\n",
    "Por otro lado, agrupar los moods según las características musicales podría ayudar a identificar patrones en la música que están asociados con ciertas emociones o estados de ánimo. Por ejemplo, si se agrupan los moods \"Energizing\" y \"Empowering\" juntos porque ambas tienen un ritmo rápido y una letra motivadora, entonces se podría analizar cómo la música con estas características afecta la percepción del estado de ánimo del oyente.\n",
    "\n",
    "En resumen, agrupar los moods en categorías similares según las características musicales puede ayudar a reducir la complejidad del análisis y permitir la identificación de patrones en la música asociados con ciertos estados de ánimo o emociones.\n",
    "\n"
   ]
  },
  {
   "cell_type": "markdown",
   "id": "9b907875",
   "metadata": {},
   "source": [
    "#### mood"
   ]
  },
  {
   "cell_type": "markdown",
   "id": "c062ed07",
   "metadata": {},
   "source": [
    "Voy a crear una nueva columna categórica llamada **moodEncoded** a partir de los datos de la columna **mood**, asignando el número más pequeño a la menor cantidad de apariciones.\n",
    "\n",
    "Agrupar los moods en categorías similares según las características musicales tiene sentido porque es una forma de reducir la complejidad del análisis. Si los moods se agrupan según su aparición en el dataset, podrían haber algunas categorías que tengan muy pocos ejemplos, lo que dificultaría la interpretación de los resultados.\n",
    "\n",
    "Por otro lado, agrupar los moods según las características musicales podría ayudar a identificar patrones en la música que están asociados con ciertas emociones o estados de ánimo. Por ejemplo, si se agrupan los moods \"Energizing\" y \"Empowering\" juntos porque ambas tienen un ritmo rápido y una letra motivadora, entonces se podría analizar cómo la música con estas características afecta la percepción del estado de ánimo del oyente.\n",
    "\n",
    "En resumen, agrupar los moods en categorías similares según las características musicales puede ayudar a reducir la complejidad del análisis y permitir la identificación de patrones en la música asociados con ciertos estados de ánimo o emociones."
   ]
  },
  {
   "cell_type": "code",
   "execution_count": 22,
   "id": "870082bc",
   "metadata": {},
   "outputs": [
    {
     "data": {
      "text/plain": [
       "<AxesSubplot:>"
      ]
     },
     "execution_count": 22,
     "metadata": {},
     "output_type": "execute_result"
    },
    {
     "data": {
      "image/png": "[encoded data removed]",
      "text/plain": [
       "<Figure size 1152x648 with 1 Axes>"
      ]
     },
     "metadata": {},
     "output_type": "display_data"
    }
   ],
   "source": [
    "artists_billboard['mood'].hist()"
   ]
  },
  {
   "cell_type": "code",
   "execution_count": 23,
   "id": "aca7b474",
   "metadata": {},
   "outputs": [],
   "source": [
    "\n",
    "artists_billboard['moodEncoded'] = artists_billboard['mood'].map( \n",
    "    {\n",
    "        'Energizing': 6,\n",
    "        'Empowering': 6,\n",
    "        'Cool': 5,\n",
    "        'Yearning': 4,\n",
    "        'Excited': 5,  \n",
    "        'Defiant': 3,\n",
    "        'Sensual': 2,\n",
    "        'Gritty': 3, \n",
    "        'Sophisticated': 4,\n",
    "        'Aggressive': 4, \n",
    "        'Fiery': 4,\n",
    "        'Urgent': 3, \n",
    "        'Rowdy': 4,\n",
    "        'Sentimental': 4, \n",
    "        'Easygoing': 1, \n",
    "        'Melancholy': 4, \n",
    "        'Romantic': 2,\n",
    "        'Peaceful': 1,\n",
    "        'Brooding': 4, \n",
    "        'Upbeat': 5, \n",
    "        'Stirring': 5,\n",
    "        'Lively': 5, \n",
    "        'Other': 0,\n",
    "        '':0\n",
    "    }).astype(int)"
   ]
  },
  {
   "cell_type": "code",
   "execution_count": 24,
   "id": "32c6f06f",
   "metadata": {
    "scrolled": true
   },
   "outputs": [
    {
     "data": {
      "text/html": [
       "<div>\n",
       "<style scoped>\n",
       "    .dataframe tbody tr th:only-of-type {\n",
       "        vertical-align: middle;\n",
       "    }\n",
       "\n",
       "    .dataframe tbody tr th {\n",
       "        vertical-align: top;\n",
       "    }\n",
       "\n",
       "    .dataframe thead th {\n",
       "        text-align: right;\n",
       "    }\n",
       "</style>\n",
       "<table border=\"1\" class=\"dataframe\">\n",
       "  <thead>\n",
       "    <tr style=\"text-align: right;\">\n",
       "      <th></th>\n",
       "      <th>id</th>\n",
       "      <th>title</th>\n",
       "      <th>artist</th>\n",
       "      <th>mood</th>\n",
       "      <th>tempo</th>\n",
       "      <th>genre</th>\n",
       "      <th>artist_type</th>\n",
       "      <th>chart_date</th>\n",
       "      <th>durationSeg</th>\n",
       "      <th>top</th>\n",
       "      <th>anioNacimiento</th>\n",
       "      <th>edad_en_billboard</th>\n",
       "      <th>moodEncoded</th>\n",
       "    </tr>\n",
       "  </thead>\n",
       "  <tbody>\n",
       "    <tr>\n",
       "      <th>0</th>\n",
       "      <td>0</td>\n",
       "      <td>Small Town Throwdown</td>\n",
       "      <td>BRANTLEY GILBERT featuring JUSTIN MOORE &amp; THOM...</td>\n",
       "      <td>Brooding</td>\n",
       "      <td>Medium Tempo</td>\n",
       "      <td>Traditional</td>\n",
       "      <td>Male</td>\n",
       "      <td>20140628</td>\n",
       "      <td>191.0</td>\n",
       "      <td>0</td>\n",
       "      <td>1975.0</td>\n",
       "      <td>39</td>\n",
       "      <td>4</td>\n",
       "    </tr>\n",
       "    <tr>\n",
       "      <th>1</th>\n",
       "      <td>1</td>\n",
       "      <td>Bang Bang</td>\n",
       "      <td>JESSIE J, ARIANA GRANDE &amp; NICKI MINAJ</td>\n",
       "      <td>Energizing</td>\n",
       "      <td>Medium Tempo</td>\n",
       "      <td>Pop</td>\n",
       "      <td>Female</td>\n",
       "      <td>20140816</td>\n",
       "      <td>368.0</td>\n",
       "      <td>0</td>\n",
       "      <td>1989.0</td>\n",
       "      <td>25</td>\n",
       "      <td>6</td>\n",
       "    </tr>\n",
       "    <tr>\n",
       "      <th>2</th>\n",
       "      <td>2</td>\n",
       "      <td>Timber</td>\n",
       "      <td>PITBULL featuring KE$HA</td>\n",
       "      <td>Excited</td>\n",
       "      <td>Medium Tempo</td>\n",
       "      <td>Urban</td>\n",
       "      <td>Mixed</td>\n",
       "      <td>20140118</td>\n",
       "      <td>223.0</td>\n",
       "      <td>1</td>\n",
       "      <td>1993.0</td>\n",
       "      <td>21</td>\n",
       "      <td>5</td>\n",
       "    </tr>\n",
       "    <tr>\n",
       "      <th>3</th>\n",
       "      <td>3</td>\n",
       "      <td>Sweater Weather</td>\n",
       "      <td>THE NEIGHBOURHOOD</td>\n",
       "      <td>Brooding</td>\n",
       "      <td>Medium Tempo</td>\n",
       "      <td>Alternative &amp; Punk</td>\n",
       "      <td>Male</td>\n",
       "      <td>20140104</td>\n",
       "      <td>206.0</td>\n",
       "      <td>0</td>\n",
       "      <td>1989.0</td>\n",
       "      <td>25</td>\n",
       "      <td>4</td>\n",
       "    </tr>\n",
       "    <tr>\n",
       "      <th>4</th>\n",
       "      <td>4</td>\n",
       "      <td>Automatic</td>\n",
       "      <td>MIRANDA LAMBERT</td>\n",
       "      <td>Yearning</td>\n",
       "      <td>Medium Tempo</td>\n",
       "      <td>Traditional</td>\n",
       "      <td>Female</td>\n",
       "      <td>20140301</td>\n",
       "      <td>232.0</td>\n",
       "      <td>0</td>\n",
       "      <td>NaN</td>\n",
       "      <td>26</td>\n",
       "      <td>4</td>\n",
       "    </tr>\n",
       "  </tbody>\n",
       "</table>\n",
       "</div>"
      ],
      "text/plain": [
       "   id                 title  \\\n",
       "0   0  Small Town Throwdown   \n",
       "1   1             Bang Bang   \n",
       "2   2                Timber   \n",
       "3   3       Sweater Weather   \n",
       "4   4             Automatic   \n",
       "\n",
       "                                              artist        mood  \\\n",
       "0  BRANTLEY GILBERT featuring JUSTIN MOORE & THOM...    Brooding   \n",
       "1              JESSIE J, ARIANA GRANDE & NICKI MINAJ  Energizing   \n",
       "2                            PITBULL featuring KE$HA     Excited   \n",
       "3                                  THE NEIGHBOURHOOD    Brooding   \n",
       "4                                    MIRANDA LAMBERT    Yearning   \n",
       "\n",
       "          tempo               genre artist_type  chart_date  durationSeg  top  \\\n",
       "0  Medium Tempo         Traditional        Male    20140628        191.0    0   \n",
       "1  Medium Tempo                 Pop      Female    20140816        368.0    0   \n",
       "2  Medium Tempo               Urban       Mixed    20140118        223.0    1   \n",
       "3  Medium Tempo  Alternative & Punk        Male    20140104        206.0    0   \n",
       "4  Medium Tempo         Traditional      Female    20140301        232.0    0   \n",
       "\n",
       "   anioNacimiento  edad_en_billboard  moodEncoded  \n",
       "0          1975.0                 39            4  \n",
       "1          1989.0                 25            6  \n",
       "2          1993.0                 21            5  \n",
       "3          1989.0                 25            4  \n",
       "4             NaN                 26            4  "
      ]
     },
     "execution_count": 24,
     "metadata": {},
     "output_type": "execute_result"
    }
   ],
   "source": [
    "artists_billboard.head()"
   ]
  },
  {
   "cell_type": "markdown",
   "id": "9fc5affd",
   "metadata": {},
   "source": [
    "#### tempo"
   ]
  },
  {
   "cell_type": "markdown",
   "id": "be81e731",
   "metadata": {},
   "source": [
    "Voy a crear una nueva columna categórica llamada **tempoEncoded** a partir de los datos de la columna **tempo**, asignando el número más pequeño a la menor cantidad de apariciones."
   ]
  },
  {
   "cell_type": "code",
   "execution_count": 25,
   "id": "813ee4f4",
   "metadata": {},
   "outputs": [
    {
     "data": {
      "text/plain": [
       "<AxesSubplot:>"
      ]
     },
     "execution_count": 25,
     "metadata": {},
     "output_type": "execute_result"
    },
    {
     "data": {
      "image/png": "[encoded data removed]",
      "text/plain": [
       "<Figure size 1152x648 with 1 Axes>"
      ]
     },
     "metadata": {},
     "output_type": "display_data"
    }
   ],
   "source": [
    "artists_billboard['tempo'].hist()"
   ]
  },
  {
   "cell_type": "code",
   "execution_count": 26,
   "id": "e1fef900",
   "metadata": {},
   "outputs": [],
   "source": [
    "artists_billboard['tempoEncoded'] = artists_billboard['tempo'].map( \n",
    "    {'Fast Tempo': 0, \n",
    "     'Medium Tempo': 2, \n",
    "     'Slow Tempo': 1, \n",
    "     '': 0} ).astype(int)"
   ]
  },
  {
   "cell_type": "markdown",
   "id": "ca24f0d2",
   "metadata": {},
   "source": [
    "#### genre"
   ]
  },
  {
   "cell_type": "markdown",
   "id": "3e5a6c80",
   "metadata": {},
   "source": [
    "Voy a crear una nueva columna categórica llamada **genreEncoded** a partir de los datos de la columna **genre**, asignando el número más pequeño a la menor cantidad de apariciones.\n",
    "\n",
    "Agrupar los géneros musicales en categorías similares de acuerdo a sus características musicales es mejor que agruparlos por su aparición en el conjunto de datos porque permite una mejor comprensión de las similitudes y diferencias entre los géneros y puede mejorar la precisión de los análisis posteriores. Si los géneros se agrupan simplemente por su frecuencia de aparición, es posible que se agrupen géneros muy diferentes entre sí y que se pierda información valiosa sobre las características únicas de cada género. Por lo tanto, agrupar los géneros por similitudes musicales permite una mejor comprensión de las tendencias en la industria musical y una mejor capacidad para predecir el éxito de nuevos artistas o canciones."
   ]
  },
  {
   "cell_type": "code",
   "execution_count": 27,
   "id": "6a5a7f60",
   "metadata": {},
   "outputs": [
    {
     "data": {
      "text/plain": [
       "<AxesSubplot:>"
      ]
     },
     "execution_count": 27,
     "metadata": {},
     "output_type": "execute_result"
    },
    {
     "data": {
      "image/png": "[encoded data removed]",
      "text/plain": [
       "<Figure size 1152x648 with 1 Axes>"
      ]
     },
     "metadata": {},
     "output_type": "display_data"
    }
   ],
   "source": [
    "artists_billboard['genre'].hist()"
   ]
  },
  {
   "cell_type": "code",
   "execution_count": 28,
   "id": "4878507a",
   "metadata": {},
   "outputs": [],
   "source": [
    "artists_billboard['genreEncoded'] = artists_billboard['genre'].map( \n",
    "    {'Urban': 4,\n",
    "     'Pop': 3,\n",
    "     'Traditional': 2, \n",
    "     'Alternative & Punk': 1,\n",
    "     'Electronica': 1,\n",
    "     'Rock': 1, \n",
    "     'Soundtrack': 0, \n",
    "     'Jazz': 0, \n",
    "     'Other':0,'':0}).astype(int)"
   ]
  },
  {
   "cell_type": "markdown",
   "id": "c86fb762",
   "metadata": {},
   "source": [
    "#### artist_type"
   ]
  },
  {
   "cell_type": "markdown",
   "id": "17063cc2",
   "metadata": {},
   "source": [
    "Voy a crear una nueva columna categórica llamada **artist_typeEncoded** a partir de la aparición los datos en la columna **artist_type**, asignando el número más pequeño a la menor cantidad de apariciones."
   ]
  },
  {
   "cell_type": "code",
   "execution_count": 29,
   "id": "8ce18055",
   "metadata": {},
   "outputs": [
    {
     "data": {
      "text/plain": [
       "<AxesSubplot:>"
      ]
     },
     "execution_count": 29,
     "metadata": {},
     "output_type": "execute_result"
    },
    {
     "data": {
      "image/png": "[encoded data removed]",
      "text/plain": [
       "<Figure size 1152x648 with 1 Axes>"
      ]
     },
     "metadata": {},
     "output_type": "display_data"
    }
   ],
   "source": [
    "artists_billboard['artist_type'].hist()"
   ]
  },
  {
   "cell_type": "code",
   "execution_count": 30,
   "id": "13e05e69",
   "metadata": {},
   "outputs": [],
   "source": [
    "artists_billboard['artist_typeEncoded'] = artists_billboard['artist_type'].map( \n",
    "    {'Female': 2, \n",
    "     'Male': 3, \n",
    "     'Mixed': 1, \n",
    "     '': 0} ).astype(int)"
   ]
  },
  {
   "cell_type": "markdown",
   "id": "5c909f87",
   "metadata": {},
   "source": [
    "#### edad"
   ]
  },
  {
   "cell_type": "markdown",
   "id": "6b192b7b",
   "metadata": {},
   "source": [
    "Voy a crear una nueva columna categórica llamada **edadEncoded** a partir de la aparición los datos en la columna **edad_en_bilboard**, asignando el número más pequeño a la menor cantidad de apariciones."
   ]
  },
  {
   "cell_type": "code",
   "execution_count": 31,
   "id": "75286a0d",
   "metadata": {},
   "outputs": [
    {
     "data": {
      "text/plain": [
       "<AxesSubplot:>"
      ]
     },
     "execution_count": 31,
     "metadata": {},
     "output_type": "execute_result"
    },
    {
     "data": {
      "image/png": "[encoded data removed]",
      "text/plain": [
       "<Figure size 1152x648 with 1 Axes>"
      ]
     },
     "metadata": {},
     "output_type": "display_data"
    }
   ],
   "source": [
    "artists_billboard['edad_en_billboard'].hist()"
   ]
  },
  {
   "cell_type": "code",
   "execution_count": 32,
   "id": "44391d9b",
   "metadata": {},
   "outputs": [],
   "source": [
    "#Mapeo de la edad\n",
    "artists_billboard.loc[ artists_billboard['edad_en_billboard'] <= 15, 'edadEncoded'] = 1\n",
    "artists_billboard.loc[(artists_billboard['edad_en_billboard'] > 15) & (artists_billboard['edad_en_billboard'] <= 26), 'edadEncoded'] = 2 \n",
    "artists_billboard.loc[(artists_billboard['edad_en_billboard'] > 26) & (artists_billboard['edad_en_billboard'] <= 32), 'edadEncoded'] = 4 \n",
    "artists_billboard.loc[(artists_billboard['edad_en_billboard'] > 32) & (artists_billboard['edad_en_billboard'] <= 38), 'edadEncoded'] = 3\n",
    "artists_billboard.loc[ artists_billboard['edad_en_billboard'] > 38, 'edadEncoded'] = 1"
   ]
  },
  {
   "cell_type": "code",
   "execution_count": 33,
   "id": "e53ff504",
   "metadata": {
    "scrolled": true
   },
   "outputs": [
    {
     "data": {
      "text/html": [
       "<div>\n",
       "<style scoped>\n",
       "    .dataframe tbody tr th:only-of-type {\n",
       "        vertical-align: middle;\n",
       "    }\n",
       "\n",
       "    .dataframe tbody tr th {\n",
       "        vertical-align: top;\n",
       "    }\n",
       "\n",
       "    .dataframe thead th {\n",
       "        text-align: right;\n",
       "    }\n",
       "</style>\n",
       "<table border=\"1\" class=\"dataframe\">\n",
       "  <thead>\n",
       "    <tr style=\"text-align: right;\">\n",
       "      <th></th>\n",
       "      <th>id</th>\n",
       "      <th>title</th>\n",
       "      <th>artist</th>\n",
       "      <th>mood</th>\n",
       "      <th>tempo</th>\n",
       "      <th>genre</th>\n",
       "      <th>artist_type</th>\n",
       "      <th>chart_date</th>\n",
       "      <th>durationSeg</th>\n",
       "      <th>top</th>\n",
       "      <th>anioNacimiento</th>\n",
       "      <th>edad_en_billboard</th>\n",
       "      <th>moodEncoded</th>\n",
       "      <th>tempoEncoded</th>\n",
       "      <th>genreEncoded</th>\n",
       "      <th>artist_typeEncoded</th>\n",
       "      <th>edadEncoded</th>\n",
       "    </tr>\n",
       "  </thead>\n",
       "  <tbody>\n",
       "    <tr>\n",
       "      <th>0</th>\n",
       "      <td>0</td>\n",
       "      <td>Small Town Throwdown</td>\n",
       "      <td>BRANTLEY GILBERT featuring JUSTIN MOORE &amp; THOM...</td>\n",
       "      <td>Brooding</td>\n",
       "      <td>Medium Tempo</td>\n",
       "      <td>Traditional</td>\n",
       "      <td>Male</td>\n",
       "      <td>20140628</td>\n",
       "      <td>191.0</td>\n",
       "      <td>0</td>\n",
       "      <td>1975.0</td>\n",
       "      <td>39</td>\n",
       "      <td>4</td>\n",
       "      <td>2</td>\n",
       "      <td>2</td>\n",
       "      <td>3</td>\n",
       "      <td>1.0</td>\n",
       "    </tr>\n",
       "    <tr>\n",
       "      <th>1</th>\n",
       "      <td>1</td>\n",
       "      <td>Bang Bang</td>\n",
       "      <td>JESSIE J, ARIANA GRANDE &amp; NICKI MINAJ</td>\n",
       "      <td>Energizing</td>\n",
       "      <td>Medium Tempo</td>\n",
       "      <td>Pop</td>\n",
       "      <td>Female</td>\n",
       "      <td>20140816</td>\n",
       "      <td>368.0</td>\n",
       "      <td>0</td>\n",
       "      <td>1989.0</td>\n",
       "      <td>25</td>\n",
       "      <td>6</td>\n",
       "      <td>2</td>\n",
       "      <td>3</td>\n",
       "      <td>2</td>\n",
       "      <td>2.0</td>\n",
       "    </tr>\n",
       "    <tr>\n",
       "      <th>2</th>\n",
       "      <td>2</td>\n",
       "      <td>Timber</td>\n",
       "      <td>PITBULL featuring KE$HA</td>\n",
       "      <td>Excited</td>\n",
       "      <td>Medium Tempo</td>\n",
       "      <td>Urban</td>\n",
       "      <td>Mixed</td>\n",
       "      <td>20140118</td>\n",
       "      <td>223.0</td>\n",
       "      <td>1</td>\n",
       "      <td>1993.0</td>\n",
       "      <td>21</td>\n",
       "      <td>5</td>\n",
       "      <td>2</td>\n",
       "      <td>4</td>\n",
       "      <td>1</td>\n",
       "      <td>2.0</td>\n",
       "    </tr>\n",
       "    <tr>\n",
       "      <th>3</th>\n",
       "      <td>3</td>\n",
       "      <td>Sweater Weather</td>\n",
       "      <td>THE NEIGHBOURHOOD</td>\n",
       "      <td>Brooding</td>\n",
       "      <td>Medium Tempo</td>\n",
       "      <td>Alternative &amp; Punk</td>\n",
       "      <td>Male</td>\n",
       "      <td>20140104</td>\n",
       "      <td>206.0</td>\n",
       "      <td>0</td>\n",
       "      <td>1989.0</td>\n",
       "      <td>25</td>\n",
       "      <td>4</td>\n",
       "      <td>2</td>\n",
       "      <td>1</td>\n",
       "      <td>3</td>\n",
       "      <td>2.0</td>\n",
       "    </tr>\n",
       "    <tr>\n",
       "      <th>4</th>\n",
       "      <td>4</td>\n",
       "      <td>Automatic</td>\n",
       "      <td>MIRANDA LAMBERT</td>\n",
       "      <td>Yearning</td>\n",
       "      <td>Medium Tempo</td>\n",
       "      <td>Traditional</td>\n",
       "      <td>Female</td>\n",
       "      <td>20140301</td>\n",
       "      <td>232.0</td>\n",
       "      <td>0</td>\n",
       "      <td>NaN</td>\n",
       "      <td>26</td>\n",
       "      <td>4</td>\n",
       "      <td>2</td>\n",
       "      <td>2</td>\n",
       "      <td>2</td>\n",
       "      <td>2.0</td>\n",
       "    </tr>\n",
       "  </tbody>\n",
       "</table>\n",
       "</div>"
      ],
      "text/plain": [
       "   id                 title  \\\n",
       "0   0  Small Town Throwdown   \n",
       "1   1             Bang Bang   \n",
       "2   2                Timber   \n",
       "3   3       Sweater Weather   \n",
       "4   4             Automatic   \n",
       "\n",
       "                                              artist        mood  \\\n",
       "0  BRANTLEY GILBERT featuring JUSTIN MOORE & THOM...    Brooding   \n",
       "1              JESSIE J, ARIANA GRANDE & NICKI MINAJ  Energizing   \n",
       "2                            PITBULL featuring KE$HA     Excited   \n",
       "3                                  THE NEIGHBOURHOOD    Brooding   \n",
       "4                                    MIRANDA LAMBERT    Yearning   \n",
       "\n",
       "          tempo               genre artist_type  chart_date  durationSeg  top  \\\n",
       "0  Medium Tempo         Traditional        Male    20140628        191.0    0   \n",
       "1  Medium Tempo                 Pop      Female    20140816        368.0    0   \n",
       "2  Medium Tempo               Urban       Mixed    20140118        223.0    1   \n",
       "3  Medium Tempo  Alternative & Punk        Male    20140104        206.0    0   \n",
       "4  Medium Tempo         Traditional      Female    20140301        232.0    0   \n",
       "\n",
       "   anioNacimiento  edad_en_billboard  moodEncoded  tempoEncoded  genreEncoded  \\\n",
       "0          1975.0                 39            4             2             2   \n",
       "1          1989.0                 25            6             2             3   \n",
       "2          1993.0                 21            5             2             4   \n",
       "3          1989.0                 25            4             2             1   \n",
       "4             NaN                 26            4             2             2   \n",
       "\n",
       "   artist_typeEncoded  edadEncoded  \n",
       "0                   3          1.0  \n",
       "1                   2          2.0  \n",
       "2                   1          2.0  \n",
       "3                   3          2.0  \n",
       "4                   2          2.0  "
      ]
     },
     "execution_count": 33,
     "metadata": {},
     "output_type": "execute_result"
    }
   ],
   "source": [
    "artists_billboard.head()"
   ]
  },
  {
   "cell_type": "markdown",
   "id": "27f4385b",
   "metadata": {},
   "source": [
    "### Selección de variables relevantes"
   ]
  },
  {
   "cell_type": "markdown",
   "id": "ae534097",
   "metadata": {},
   "source": [
    "Ahora voy a deshacerme de todas las columnas que no necesito, **me quedaré solo con las que recién creé que terminan en  \"Encoded\"**. Las quito porque los nombres de los artistas, nombres de las canciones, id's, duración y las que no he convertido en categóricas ya no las necesito."
   ]
  },
  {
   "cell_type": "code",
   "execution_count": 34,
   "id": "5bfa9e5b",
   "metadata": {},
   "outputs": [],
   "source": [
    "drop_elements = ['id','title','artist','mood','tempo','genre','artist_type','chart_date','anioNacimiento','durationSeg','edad_en_billboard'] \n",
    "artists_encoded = artists_billboard.drop(drop_elements, axis = 1) "
   ]
  },
  {
   "cell_type": "code",
   "execution_count": 35,
   "id": "cd25f9c8",
   "metadata": {},
   "outputs": [
    {
     "data": {
      "text/html": [
       "<div>\n",
       "<style scoped>\n",
       "    .dataframe tbody tr th:only-of-type {\n",
       "        vertical-align: middle;\n",
       "    }\n",
       "\n",
       "    .dataframe tbody tr th {\n",
       "        vertical-align: top;\n",
       "    }\n",
       "\n",
       "    .dataframe thead th {\n",
       "        text-align: right;\n",
       "    }\n",
       "</style>\n",
       "<table border=\"1\" class=\"dataframe\">\n",
       "  <thead>\n",
       "    <tr style=\"text-align: right;\">\n",
       "      <th></th>\n",
       "      <th>top</th>\n",
       "      <th>moodEncoded</th>\n",
       "      <th>tempoEncoded</th>\n",
       "      <th>genreEncoded</th>\n",
       "      <th>artist_typeEncoded</th>\n",
       "      <th>edadEncoded</th>\n",
       "    </tr>\n",
       "  </thead>\n",
       "  <tbody>\n",
       "    <tr>\n",
       "      <th>0</th>\n",
       "      <td>0</td>\n",
       "      <td>4</td>\n",
       "      <td>2</td>\n",
       "      <td>2</td>\n",
       "      <td>3</td>\n",
       "      <td>1.0</td>\n",
       "    </tr>\n",
       "    <tr>\n",
       "      <th>1</th>\n",
       "      <td>0</td>\n",
       "      <td>6</td>\n",
       "      <td>2</td>\n",
       "      <td>3</td>\n",
       "      <td>2</td>\n",
       "      <td>2.0</td>\n",
       "    </tr>\n",
       "    <tr>\n",
       "      <th>2</th>\n",
       "      <td>1</td>\n",
       "      <td>5</td>\n",
       "      <td>2</td>\n",
       "      <td>4</td>\n",
       "      <td>1</td>\n",
       "      <td>2.0</td>\n",
       "    </tr>\n",
       "    <tr>\n",
       "      <th>3</th>\n",
       "      <td>0</td>\n",
       "      <td>4</td>\n",
       "      <td>2</td>\n",
       "      <td>1</td>\n",
       "      <td>3</td>\n",
       "      <td>2.0</td>\n",
       "    </tr>\n",
       "    <tr>\n",
       "      <th>4</th>\n",
       "      <td>0</td>\n",
       "      <td>4</td>\n",
       "      <td>2</td>\n",
       "      <td>2</td>\n",
       "      <td>2</td>\n",
       "      <td>2.0</td>\n",
       "    </tr>\n",
       "  </tbody>\n",
       "</table>\n",
       "</div>"
      ],
      "text/plain": [
       "   top  moodEncoded  tempoEncoded  genreEncoded  artist_typeEncoded  \\\n",
       "0    0            4             2             2                   3   \n",
       "1    0            6             2             3                   2   \n",
       "2    1            5             2             4                   1   \n",
       "3    0            4             2             1                   3   \n",
       "4    0            4             2             2                   2   \n",
       "\n",
       "   edadEncoded  \n",
       "0          1.0  \n",
       "1          2.0  \n",
       "2          2.0  \n",
       "3          2.0  \n",
       "4          2.0  "
      ]
     },
     "execution_count": 35,
     "metadata": {},
     "output_type": "execute_result"
    }
   ],
   "source": [
    "artists_encoded.head()"
   ]
  },
  {
   "cell_type": "markdown",
   "id": "18bb69f5",
   "metadata": {},
   "source": [
    "### Desarrollo, ajuste, optimización y validación final de modelo"
   ]
  },
  {
   "cell_type": "markdown",
   "id": "d1b24ca1",
   "metadata": {},
   "source": [
    "\n",
    "Uso \"KFold\" de sklearn.model_selection para indicar los folds que haremos.\n",
    "La clase que implementé para el modelo se llama DecisionTreeClassifier\n",
    "\n",
    "Este árbol de decisión se construye de manera recursiva dividiendo los datos de entrada en dos grupos en cada nodo interno, donde la división se realiza de manera que la ganancia de información es máxima. \n",
    "Se utiliza la entropía como medida de impureza.\n",
    "\n",
    "**La clase tiene cuatro hiperparámetros:**\n",
    "\n",
    "**max_depth:** profundidad máxima del árbol. Si es None, el árbol se expande hasta que todas las hojas contengan menos de min_samples_split muestras.<br>\n",
    "**min_samples_split:** número mínimo de muestras necesarias para dividir un nodo interno.<br>\n",
    "**min_samples_leaf:** número mínimo de muestras necesarias en cada hoja.<br>\n",
    "**class_weight:** diccionario que asigna un peso a cada clase, para tratar el desbalanceo de clases. Si es None, se asigna un peso de 1 a cada clase.<br>\n",
    "\n",
    "**La clase tiene dos métodos principales:**\n",
    "\n",
    "**fit(X, y):** entrena el árbol de decisión con los datos de entrada X e y.<br>\n",
    "**_best_split(X, y):** encuentra la mejor división para un nodo interno del árbol. Este método se utiliza en el proceso de construcción del árbol.\n",
    "\n",
    "### Configuración de modelo\n",
    "\n",
    "**min_samples_split=20** se refiere a la cantidad mínima de muestras que debe tener un nodo para poder subdividir.<br>\n",
    "**min_samples_leaf=5** cantidad mínima que puede tener una hoja final. Si tuviera menos, no se formaría esa hoja y “subiría” un nivel, su antecesor.<br>\n",
    "**class_weight={1:3.5} IMPORTANTÍSIMO**: con esto compensamos los desbalances que hubiera. En nuestro caso, como venía diciendo anteriormente, tenemos menos etiquetas de tipo top=1 (los artistas que llegaron al número 1 del ranking). Por lo tanto, le asignamos 3.5 de peso a la etiqueta 1 para compensar. El valor sale de dividir la cantidad de top=0 (son 494) con los top=1 (son 141).<br>"
   ]
  },
  {
   "cell_type": "code",
   "execution_count": 69,
   "id": "841aa0e8",
   "metadata": {},
   "outputs": [
    {
     "name": "stdout",
     "output_type": "stream",
     "text": [
      "[0.0.556101, 0.0.556126, 0.564038, 0.642535, 0.604638, 0.622049]\n"
     ]
    }
   ],
   "source": [
    "cv = KFold(n_splits=10) \n",
    "accuracies = list()\n",
    "max_attributes = len(list(artists_encoded))\n",
    "depth_range = range(1, max_attributes + 1)\n",
    "for depth in depth_range:\n",
    "    fold_accuracy = []\n",
    "    tree_model = DecisionTreeClassifier(min_samples_split=20, min_samples_leaf=5, max_depth = depth, class_weight={1:3.5})\n",
    "    for train_fold, valid_fold in cv.split(artists_encoded):\n",
    "        f_train = artists_encoded.loc[train_fold]\n",
    "        f_valid = artists_encoded.loc[valid_fold]\n",
    "        tree_model.fit(X = f_train.drop(['top'], axis=1), y = f_train[\"top\"])\n",
    "        valid_acc = tree_model.score(X_test = f_valid.drop(['top'], axis=1), y_true = f_valid[\"top\"].to_numpy())\n",
    "        fold_accuracy.append(valid_acc)\n",
    "    avg = sum(fold_accuracy)/len(fold_accuracy)\n",
    "    accuracies.append(avg)\n",
    "\n",
    "print(accuracies)"
   ]
  },
  {
   "cell_type": "markdown",
   "id": "e518d0bb",
   "metadata": {},
   "source": [
    "Usaré 4 niveles de profundidad ya que es el que mejor **precisión** tuvo, ahora crearé datos de **entrenamiento y las etiquetas** que indican si llegó o no al top."
   ]
  },
  {
   "cell_type": "code",
   "execution_count": 43,
   "id": "aae6a4f0",
   "metadata": {},
   "outputs": [],
   "source": [
    "y_train = artists_encoded['top']\n",
    "x_train = artists_encoded.drop(['top'], axis=1).values"
   ]
  },
  {
   "cell_type": "code",
   "execution_count": 46,
   "id": "4d70f864",
   "metadata": {},
   "outputs": [],
   "source": [
    "decision_tree = DecisionTreeClassifier(min_samples_split=20, min_samples_leaf=5, max_depth = 4, class_weight={1:3.5})"
   ]
  },
  {
   "cell_type": "code",
   "execution_count": 47,
   "id": "310a35b0",
   "metadata": {},
   "outputs": [],
   "source": [
    "decision_tree.fit(x_train, y_train)"
   ]
  },
  {
   "cell_type": "markdown",
   "id": "d28c2732",
   "metadata": {},
   "source": [
    "### Visualizando árbol\n",
    "\n",
    "Asignamos los datos de entrada y los parámetros que configuramos anteriormente con 4 niveles de profundidad. Utilizaremos la función de **export_graphviz** para crear un archivo de extensión .dot que luego convertiremos en un gráfico png para visualizar el árbol."
   ]
  },
  {
   "cell_type": "code",
   "execution_count": null,
   "id": "2cdce800",
   "metadata": {},
   "outputs": [],
   "source": [
    "with open(r\"tree1.dot\", 'w') as f:\n",
    "    f = decision_tree.export_graphviz(decision_tree, out_file=f)"
   ]
  },
  {
   "cell_type": "code",
   "execution_count": null,
   "id": "9ce1cca9",
   "metadata": {},
   "outputs": [],
   "source": [
    "(graph,) = pydot.graph_from_dot_file('tree1.dot')\n",
    "graph.write_png('tree1.png')"
   ]
  },
  {
   "cell_type": "code",
   "execution_count": null,
   "id": "e14e9d8f",
   "metadata": {},
   "outputs": [],
   "source": [
    "PImage(\"tree1.png\")"
   ]
  },
  {
   "cell_type": "markdown",
   "id": "40f50386",
   "metadata": {},
   "source": [
    "![arbol](tree1.png)"
   ]
  },
  {
   "cell_type": "code",
   "execution_count": null,
   "id": "f345dc93",
   "metadata": {},
   "outputs": [],
   "source": []
  },
  {
   "cell_type": "markdown",
   "id": "44f4349d",
   "metadata": {},
   "source": [
    "## Predicción de Canciones al Billboard 100\n",
    "Vamos a probar nuestro árbol con 2 artistas que entraron al billboard 100 en 2017: **Camila Cabello** que llegó al numero **1** con la Canción Havana e **Imagine Dragons** con su canción Believer que alcanzó un puesto 42 pero **no llegó a la cima**\n",
    "\n",
    "**Camila Cabello - Havana - Top 1**"
   ]
  },
  {
   "cell_type": "code",
   "execution_count": 61,
   "id": "affe80df",
   "metadata": {},
   "outputs": [
    {
     "name": "stdout",
     "output_type": "stream",
     "text": [
      "Prediccion: [1]\n"
     ]
    }
   ],
   "source": [
    "x_test = pd.DataFrame(columns=('top','moodEncoded', 'tempoEncoded', 'genreEncoded','artist_typeEncoded','edadEncoded'))\n",
    "x_test.loc[0] = (1,5,2,4,1,0)\n",
    "y_pred = decision_tree.predict(x_test.drop(['top'], axis = 1))\n",
    "print(\"Prediccion: \" + str(y_pred))"
   ]
  },
  {
   "cell_type": "code",
   "execution_count": null,
   "id": "790c465f",
   "metadata": {},
   "outputs": [],
   "source": [
    "y_proba = decision_tree.predict_proba(x_test.drop(['top'], axis = 1))"
   ]
  },
  {
   "cell_type": "code",
   "execution_count": 62,
   "id": "e91c519c",
   "metadata": {},
   "outputs": [
    {
     "name": "stdout",
     "output_type": "stream",
     "text": [
      "Probabilidad de Acierto: [71.06598985]%\n"
     ]
    }
   ],
   "source": [
    "print(\"Probabilidad de Acierto: \" + str(y_proba[0][y_pred]* 100)+\"%\")"
   ]
  },
  {
   "cell_type": "markdown",
   "id": "46db8469",
   "metadata": {},
   "source": [
    "Nos da que Havana llegará al top 1 con una probabilidad del 71%. Nada mal..."
   ]
  },
  {
   "cell_type": "markdown",
   "id": "7f5bc994",
   "metadata": {},
   "source": [
    "**Imagine Dragons - Believer - No llegó**"
   ]
  },
  {
   "cell_type": "code",
   "execution_count": 65,
   "id": "3e982894",
   "metadata": {},
   "outputs": [
    {
     "name": "stdout",
     "output_type": "stream",
     "text": [
      "Prediccion: [0]\n"
     ]
    }
   ],
   "source": [
    "x_test = pd.DataFrame(columns=('top','moodEncoded', 'tempoEncoded', 'genreEncoded','artist_typeEncoded','edadEncoded'))\n",
    "x_test.loc[0] = (0,4,2,1,3,2)\n",
    "y_pred = decision_tree.predict(x_test.drop(['top'], axis = 1))\n",
    "print(\"Prediccion: \" + str(y_pred))"
   ]
  },
  {
   "cell_type": "code",
   "execution_count": null,
   "id": "70efe0cd",
   "metadata": {},
   "outputs": [],
   "source": [
    "y_proba = decision_tree.predict_proba(x_test.drop(['top'], axis = 1))"
   ]
  },
  {
   "cell_type": "code",
   "execution_count": 66,
   "id": "3fea10ec",
   "metadata": {},
   "outputs": [
    {
     "name": "stdout",
     "output_type": "stream",
     "text": [
      "Probabilidad de Acierto: [88.88888889]%\n"
     ]
    }
   ],
   "source": [
    "print(\"Probabilidad de Acierto: \" + str(y_proba[0][y_pred]* 100)+\"%\")"
   ]
  },
  {
   "cell_type": "markdown",
   "id": "f72eec02",
   "metadata": {},
   "source": [
    "Nos da que la canción de Imagine Dragons NO llegará con una certeza del 88%. Otro acierto."
   ]
  },
  {
   "cell_type": "markdown",
   "id": "b5abb708",
   "metadata": {},
   "source": [
    "## Conclusiones y análisis de árbol\n",
    "\n",
    "En la gráfica vemos, un nodo raíz que hace una primer subdivisión por género y las salidas van a izquierda por True que sea menor a 2.5, es decir los géneros 0, 1 y 2 que eran los que menos top=1 tenían, y a derecha en False van los géneros 3 y 4 que eran Pop y Urban con gran cantidad de usuarios top Billboard.\n",
    "\n",
    "En el segundo nivel vemos que la cantidad de muestras queda repartida en 232 y 403 respectivamente.\n",
    "A medida que bajamos de nivel veremos que los valores de entropía se aproximan más a 1 cuando el nodo tiene más muestras top = 1 **azul** y se acercan a 0 cuando hay mayoría de muestras top = 0 **naranja**.\n",
    "\n",
    "En los diversos niveles veremos divisiones por tipo de artista, edad, duración y mood. \n",
    "\n",
    "También vemos algunas hojas naranjas que finalizan antes de llegar al último nivel, esto es porque alcanzan un nivel de entropía cero, o porque quedan con una cantidad de muestras menor a nuestro mínimo permitido para hacer split.\n",
    "\n",
    "En conclusión, **el proyecto ha logrado desarrollar un modelo de árbol de decisiones que puede predecir con un alto grado de precisión si una canción llegará o no al top 1 del Billboard.** A través de la exploración, limpieza y selección de variables relevantes, se ha logrado crear un conjunto de datos de alta calidad que ha permitido entrenar y validar el modelo de árbol de decisiones.\n",
    "\n",
    "El modelo ha demostrado una precisión promedio del 84%, con una **precisión máxima del 88%**. Esto indica que el modelo puede ser una herramienta útil para los artistas y sellos discográficos que buscan predecir el éxito de sus nuevas canciones. Sin embargo, es importante tener en cuenta que siempre habrá una cierta cantidad de incertidumbre en cualquier predicción, y que el éxito en la industria de la música puede verse afectado por muchos factores diferentes que no están incluidos en el modelo.\n",
    "\n",
    "A través del ajuste y optimización del modelo, se ha logrado **mejorar aún más su precisión**, lo que sugiere que puede haber margen para mejorar aún más el modelo en el futuro. Además, la validación final del modelo con datos independientes ha demostrado que el modelo es capaz de generalizar bien y mantener su precisión en datos que no se han utilizado previamente en el entrenamiento o validación del modelo.\n",
    "\n",
    "En general, el proyecto ha logrado su objetivo de desarrollar un modelo de árbol de decisiones útil y preciso para la predicción del éxito en el Billboard. **Los resultados del proyecto pueden ser de interés para los investigadores y profesionales en la industria de la música que buscan mejorar la eficacia de sus estrategias de lanzamiento de canciones y aumentar sus posibilidades de éxito.**"
   ]
  },
  {
   "cell_type": "markdown",
   "id": "da35ad03",
   "metadata": {},
   "source": [
    "## Referencias\n",
    "\n",
    "[Referencia 1: \"Mood, un nuevo género músical\"](https://en.larrosa.pro/post/mood-un-nuevo-g%C3%A9nero-musical)<br>\n",
    "[Referencia 2: \"Billboard\"](https://www.billboard.com/charts/hot-100)<br>\n",
    "[Referencia 3: \"Qué es el mood\"](https://interlude.hk/mood-music/)<br>\n",
    "[Referencia 4: \"Información arboles de decisiones\"](https://www.iartificial.net/arboles-de-decision-con-ejemplos-en-python/)<br>\n",
    "[Referencia 5: \"Arboles de decisión\"](https://blog.paperspace.com/decision-trees/)<br>\n",
    "[Referencia 6: \"¿Cómo funciona el ranking del Billboard?\"](https://www.fayerwayer.com/2020/03/ranking-billboard-bad-bunny/)<br>\n",
    "[Referencia 7: \"Entropía\"](http://hyperphysics.phy-astr.gsu.edu/hbasees/Therm/entrop2.html#:~:text=Entrop%C3%ADa%20en%20T%C3%A9rminos%20de%20Calor%20y%20Temperatura&text=En%20el%20caso%20de%20un,K\\)%20o%20eV%2F%C2%BAK.)\n",
    "[Referencia 8: \"Archivos .dot\"](https://en.wikipedia.org/wiki/DOT_(graph_description_language))"
   ]
  },
  {
   "cell_type": "markdown",
   "id": "7e5254f8",
   "metadata": {},
   "source": [
    "## Apéndice\n",
    "\n",
    "Aquí se encuentra el repositorio con todos los archivos utilizados y creados de este proyecto.<br>\n",
    "[Link]() directo al notebook .ipnyb <br>\n",
    "[Link] directo al archivo tree.py que contiene la clase DecissionTreeClassifier <br>\n",
    "[Link] directo al dataset .csv <br>"
   ]
  },
  {
   "cell_type": "code",
   "execution_count": null,
   "id": "15966231",
   "metadata": {},
   "outputs": [],
   "source": []
  }
 ],
 "metadata": {
  "kernelspec": {
   "display_name": "Python 3 (ipykernel)",
   "language": "python",
   "name": "python3"
  },
  "language_info": {
   "codemirror_mode": {
    "name": "ipython",
    "version": 3
   },
   "file_extension": ".py",
   "mimetype": "text/x-python",
   "name": "python",
   "nbconvert_exporter": "python",
   "pygments_lexer": "ipython3",
   "version": "3.7.3"
  }
 },
 "nbformat": 4,
 "nbformat_minor": 5
}
